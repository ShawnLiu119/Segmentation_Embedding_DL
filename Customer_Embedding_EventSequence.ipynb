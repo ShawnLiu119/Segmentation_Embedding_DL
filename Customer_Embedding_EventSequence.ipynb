{
  "nbformat": 4,
  "nbformat_minor": 0,
  "metadata": {
    "colab": {
      "provenance": [],
      "authorship_tag": "ABX9TyOef/j/6vL2nYVWDYkMUrok",
      "include_colab_link": true
    },
    "kernelspec": {
      "name": "python3",
      "display_name": "Python 3"
    },
    "language_info": {
      "name": "python"
    }
  },
  "cells": [
    {
      "cell_type": "markdown",
      "metadata": {
        "id": "view-in-github",
        "colab_type": "text"
      },
      "source": [
        "<a href=\"https://colab.research.google.com/github/ShawnLiu119/Segmentation_Embedding_DL/blob/main/Customer_Embedding_EventSequence.ipynb\" target=\"_parent\"><img src=\"https://colab.research.google.com/assets/colab-badge.svg\" alt=\"Open In Colab\"/></a>"
      ]
    },
    {
      "cell_type": "markdown",
      "source": [
        "# **Customer Embedding - Based on Event**\n",
        "\n",
        "## Key Concept\n",
        "**Event**: customer event sequence could be product browsing history on website, clicks, in store purchase, transactions </br>\n",
        "**Doc2Vec**: vectorize the document: Doc2Vec is a neural network-based approach that learns the distributed representation of documents. It is an unsupervised learning technique that maps each document to a fixed-length vector in a high-dimensional space\n",
        "\n",
        "## Use Case\n",
        "1. **segmentation** capture behavioral semantics and use these embeddings for audience analysis (e.g. clustering)\n",
        "2. **recommendation engine** input for the downstream personalization models\n",
        "\n",
        "## Logical thoughts\n",
        "Each customer is viewed as a document, orders as sentences, and products as words. Each customer could place multiple orders, while one order could include multiple products\n",
        "\n",
        "## MLOPs consideration\n",
        " The dataset size and compute resources need to be carefully selected because Doc2Vec and subsequent clustering are computationally heavy processes."
      ],
      "metadata": {
        "id": "5K4B1fR0Yu6h"
      }
    },
    {
      "cell_type": "code",
      "source": [
        "import pandas as pd\n",
        "import matplotlib.pyplot as plt\n",
        "import seaborn as sns; sns.set()\n",
        "from tqdm import tqdm_notebook as tqdm #show progress bar\n",
        "import numpy as np\n",
        "import os\n",
        "from sklearn.manifold import TSNE #visualize high-dimensional data by converting similarity to join probabilities\n",
        "\n",
        "from sklearn.cluster import KMeans\n",
        "from sklearn.metrics import silhouette_samples, silhouette_score\n",
        "from sklearn import preprocessing\n",
        "\n",
        "pd.options.display.max_rows = 20\n",
        "%matplotlib inline\n",
        "\n",
        "pd.set_option('display.max_rows', 500)\n",
        "pd.set_option('display.max_columns', 500)\n",
        "pd.set_option('display.width', 1000)\n",
        "pd.set_option('display.max_colwidth', 500)\n",
        "\n",
        "from IPython.core.interactiveshell import InteractiveShell\n",
        "InteractiveShell.ast_node_interactivity = \"all\"\n",
        "\n",
        "import glob\n",
        "\n",
        "import multiprocessing as mp\n",
        "print('Number of CPU cores:', mp.cpu_count())"
      ],
      "metadata": {
        "id": "O7KjMSbvY_pQ"
      },
      "execution_count": null,
      "outputs": []
    }
  ]
}