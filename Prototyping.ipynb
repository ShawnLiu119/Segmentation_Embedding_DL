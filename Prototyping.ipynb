{
  "nbformat": 4,
  "nbformat_minor": 0,
  "metadata": {
    "colab": {
      "provenance": [],
      "authorship_tag": "ABX9TyO/4BV6AaRgpIu+tSmc8bDB",
      "include_colab_link": true
    },
    "kernelspec": {
      "name": "python3",
      "display_name": "Python 3"
    },
    "language_info": {
      "name": "python"
    }
  },
  "cells": [
    {
      "cell_type": "markdown",
      "metadata": {
        "id": "view-in-github",
        "colab_type": "text"
      },
      "source": [
        "<a href=\"https://colab.research.google.com/github/ShawnLiu119/Segmentation_Embedding_DL/blob/main/Prototyping.ipynb\" target=\"_parent\"><img src=\"https://colab.research.google.com/assets/colab-badge.svg\" alt=\"Open In Colab\"/></a>"
      ]
    },
    {
      "cell_type": "markdown",
      "source": [
        "# **Customer2Vec Models - Prototype**"
      ],
      "metadata": {
        "id": "RjqEypZmuIBG"
      }
    },
    {
      "cell_type": "markdown",
      "source": [
        "In this prototype, we focus on a basic scenario where customer event histories are generated using a simple Markov chain. We demonstrate that Word2vec and Doc2vec models capture sequential event patterns."
      ],
      "metadata": {
        "id": "QU7FRHHyuVvn"
      }
    },
    {
      "cell_type": "code",
      "source": [
        "import numpy as np\n",
        "import pandas as pd\n",
        "import seaborn as sns\n",
        "import matplotlib.pyplot as plt\n",
        "sns.set_style(\"whitegrid\")\n",
        "import random\n",
        "\n",
        "from gensim.models import Word2Vec\n",
        "from gensim.models.doc2vec import TaggedDocument, Doc2Vec\n",
        "from sklearn.decomposition import TruncatedSVD"
      ],
      "metadata": {
        "id": "Ap-LMFIZuaKy"
      },
      "execution_count": 3,
      "outputs": []
    },
    {
      "cell_type": "markdown",
      "source": [
        "## Step1: generate fake data"
      ],
      "metadata": {
        "id": "fYKdX4FSwBSC"
      }
    },
    {
      "cell_type": "markdown",
      "source": [
        "We consider a toy model of an online apparel store that sells two categories of products, hats and dresses. Each category is represented by two products, so we have 4 products in total, 2 hats and 2 dresses. We assume two classes of customers:\n",
        "\n",
        "-  Category shoppers come to buy either a hat or a dress. They tend to browse within one category but rarely switch between categories.\n",
        "-  Look shoppers come to buy both a hat and a dress. They tend to frequently jump between the categories.<br>\n",
        "Each of these two classes of shoppers is specified using a stochastic transition matrix."
      ],
      "metadata": {
        "id": "mhAGxjuzwayy"
      }
    },
    {
      "cell_type": "code",
      "source": [
        "#\n",
        "# Shopper transition matrices\n",
        "#\n",
        "\n",
        "# Category shopper\n",
        "transition_matrix_a = np.array([\n",
        "# Hat 1 | Hat 2 | Dress 1 | Dress 2\n",
        "  [0.1,    0.9,    0.0,      0.0],      # Hat 1\n",
        "  [0.8,    0.1,    0.1,      0.0],      # Hat 2\n",
        "  [0.0,    0.0,    0.1,      0.9],      # Dress 1\n",
        "  [0.1,    0.0,    0.8,      0.1]       # Dress 2\n",
        "])\n",
        "\n",
        "# Look shoper\n",
        "transition_matrix_b = np.array([\n",
        "# Hat 1 | Hat 2 | Dress 1 | Dress 2\n",
        "  [0.1,    0.9,    0.0,      0.0],      # Hat 1\n",
        "  [0.4,    0.1,    0.5,      0.0],      # Hat 2\n",
        "  [0.0,    0.0,    0.1,      0.9],      # Dress 1\n",
        "  [0.5,    0.0,    0.4,      0.1]       # Dress 2\n",
        "])\n",
        "\n",
        "#\n",
        "# Stationary distribution over products\n",
        "#\n",
        "def stationary_distribution(transition_matrix):\n",
        "    P = np.transpose(transition_matrix) - np.identity(transition_matrix.shape[0])\n",
        "    A = np.append(P, np.ones((1, P.shape[0])), axis=0)\n",
        "    b = np.transpose(np.append(np.zeros(P.shape[0]), [1]))\n",
        "    return np.linalg.solve(np.transpose(A).dot(A), np.transpose(A).dot(b))\n",
        "\n",
        "print(stationary_distribution(transition_matrix_a))\n",
        "print(stationary_distribution(transition_matrix_b))"
      ],
      "metadata": {
        "colab": {
          "base_uri": "https://localhost:8080/"
        },
        "id": "WrPK3mqswAdK",
        "outputId": "9cc99525-cfaa-4a21-f10a-399ca988a45d"
      },
      "execution_count": 4,
      "outputs": [
        {
          "output_type": "stream",
          "name": "stdout",
          "text": [
            "[0.25 0.25 0.25 0.25]\n",
            "[0.25 0.25 0.25 0.25]\n"
          ]
        }
      ]
    },
    {
      "cell_type": "code",
      "source": [
        "np.transpose(transition_matrix_a) -"
      ],
      "metadata": {
        "colab": {
          "base_uri": "https://localhost:8080/"
        },
        "id": "Zax25vtDwAac",
        "outputId": "aa0042cc-52be-4a17-98bb-d952d072eb6a"
      },
      "execution_count": 5,
      "outputs": [
        {
          "output_type": "execute_result",
          "data": {
            "text/plain": [
              "array([[0.1, 0.8, 0. , 0.1],\n",
              "       [0.9, 0.1, 0. , 0. ],\n",
              "       [0. , 0.1, 0.1, 0.8],\n",
              "       [0. , 0. , 0.9, 0.1]])"
            ]
          },
          "metadata": {},
          "execution_count": 5
        }
      ]
    },
    {
      "cell_type": "code",
      "source": [
        "np.identity(transition_matrix_a.shape[0])"
      ],
      "metadata": {
        "colab": {
          "base_uri": "https://localhost:8080/"
        },
        "id": "pHpEQbsYwAXf",
        "outputId": "10c82aca-bb77-47e1-d787-7bf6e8c91737"
      },
      "execution_count": 10,
      "outputs": [
        {
          "output_type": "execute_result",
          "data": {
            "text/plain": [
              "array([[1., 0., 0., 0.],\n",
              "       [0., 1., 0., 0.],\n",
              "       [0., 0., 1., 0.],\n",
              "       [0., 0., 0., 1.]])"
            ]
          },
          "metadata": {},
          "execution_count": 10
        }
      ]
    },
    {
      "cell_type": "code",
      "source": [
        "P = np.transpose(transition_matrix_a) - np.identity(transition_matrix_a.shape[0])\n",
        "P"
      ],
      "metadata": {
        "colab": {
          "base_uri": "https://localhost:8080/"
        },
        "id": "TBXNzRn-wAUZ",
        "outputId": "64d6eb41-c6fc-4e3f-8dd2-f243e6e7df79"
      },
      "execution_count": 15,
      "outputs": [
        {
          "output_type": "execute_result",
          "data": {
            "text/plain": [
              "array([[-0.9,  0.8,  0. ,  0.1],\n",
              "       [ 0.9, -0.9,  0. ,  0. ],\n",
              "       [ 0. ,  0.1, -0.9,  0.8],\n",
              "       [ 0. ,  0. ,  0.9, -0.9]])"
            ]
          },
          "metadata": {},
          "execution_count": 15
        }
      ]
    },
    {
      "cell_type": "code",
      "source": [
        "A = np.append(P, np.ones((1, P.shape[0])), axis=0)\n",
        "A"
      ],
      "metadata": {
        "colab": {
          "base_uri": "https://localhost:8080/"
        },
        "id": "XibN-N_WwARf",
        "outputId": "4b513152-5c4c-46e0-f316-e531b92e3b26"
      },
      "execution_count": 14,
      "outputs": [
        {
          "output_type": "execute_result",
          "data": {
            "text/plain": [
              "array([[-0.9,  0.8,  0. ,  0.1],\n",
              "       [ 0.9, -0.9,  0. ,  0. ],\n",
              "       [ 0. ,  0.1, -0.9,  0.8],\n",
              "       [ 0. ,  0. ,  0.9, -0.9],\n",
              "       [ 1. ,  1. ,  1. ,  1. ]])"
            ]
          },
          "metadata": {},
          "execution_count": 14
        }
      ]
    },
    {
      "cell_type": "code",
      "source": [
        "np.zeros(P.shape[0])"
      ],
      "metadata": {
        "colab": {
          "base_uri": "https://localhost:8080/"
        },
        "id": "cueIlQDWx9hP",
        "outputId": "d1126d47-7e3e-46e3-e68d-1a1422dc899f"
      },
      "execution_count": 17,
      "outputs": [
        {
          "output_type": "execute_result",
          "data": {
            "text/plain": [
              "array([0., 0., 0., 0.])"
            ]
          },
          "metadata": {},
          "execution_count": 17
        }
      ]
    },
    {
      "cell_type": "code",
      "source": [
        "np.append(np.zeros(P.shape[0]), [1])"
      ],
      "metadata": {
        "colab": {
          "base_uri": "https://localhost:8080/"
        },
        "id": "iT4Uar_iyCz5",
        "outputId": "f70ed3af-96c1-4289-d40f-e917214fd7b3"
      },
      "execution_count": 18,
      "outputs": [
        {
          "output_type": "execute_result",
          "data": {
            "text/plain": [
              "array([0., 0., 0., 0., 1.])"
            ]
          },
          "metadata": {},
          "execution_count": 18
        }
      ]
    },
    {
      "cell_type": "code",
      "source": [
        "b = np.transpose(np.append(np.zeros(P.shape[0]), [1]))\n",
        "b"
      ],
      "metadata": {
        "colab": {
          "base_uri": "https://localhost:8080/"
        },
        "id": "o1zhQ8ebwAOg",
        "outputId": "135149e5-572b-42e6-b205-2c8a5256fc55"
      },
      "execution_count": 20,
      "outputs": [
        {
          "output_type": "execute_result",
          "data": {
            "text/plain": [
              "array([0., 0., 0., 0., 1.])"
            ]
          },
          "metadata": {},
          "execution_count": 20
        }
      ]
    },
    {
      "cell_type": "code",
      "source": [
        "np.transpose(A).dot(A)"
      ],
      "metadata": {
        "colab": {
          "base_uri": "https://localhost:8080/"
        },
        "id": "tpLRfweHyIU8",
        "outputId": "d1113a79-761a-43d2-a5c5-745872ab9ab9"
      },
      "execution_count": 21,
      "outputs": [
        {
          "output_type": "execute_result",
          "data": {
            "text/plain": [
              "array([[ 2.62, -0.53,  1.  ,  0.91],\n",
              "       [-0.53,  2.46,  0.91,  1.16],\n",
              "       [ 1.  ,  0.91,  2.62, -0.53],\n",
              "       [ 0.91,  1.16, -0.53,  2.46]])"
            ]
          },
          "metadata": {},
          "execution_count": 21
        }
      ]
    },
    {
      "cell_type": "code",
      "source": [],
      "metadata": {
        "id": "WBZk2ssDydd0"
      },
      "execution_count": null,
      "outputs": []
    }
  ]
}